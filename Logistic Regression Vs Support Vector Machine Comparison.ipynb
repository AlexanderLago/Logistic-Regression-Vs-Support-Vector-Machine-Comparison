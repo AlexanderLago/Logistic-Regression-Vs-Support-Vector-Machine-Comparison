{
 "cells": [
  {
   "cell_type": "markdown",
   "id": "c30c45e3",
   "metadata": {},
   "source": [
    "# Logistic Regression Vs. Support Vector Machine\n",
    "Answer questions:\n",
    "\n",
    "(1) Produce a 3 by 3 table of the error on the validation dataset, where 3 by 3 correspond to the three choices of p and three choices of m. \n",
    "\n",
    "(2)  in general, is it true that the more p, the smaller error ? \n",
    "\n",
    "(3)  in general, is it true that the larger m, the smaller error ? "
   ]
  },
  {
   "cell_type": "markdown",
   "id": "01ba5f06",
   "metadata": {},
   "source": [
    "## Import Packages"
   ]
  },
  {
   "cell_type": "code",
   "execution_count": 19,
   "id": "2556bff4",
   "metadata": {},
   "outputs": [],
   "source": [
    "import numpy as np\n",
    "import pandas as pd\n",
    "import statistics as stat\n",
    "import matplotlib.pyplot as plt\n",
    "from sklearn import svm\n",
    "from sklearn import metrics\n",
    "import statsmodels.api as sm"
   ]
  },
  {
   "cell_type": "markdown",
   "id": "c491d3c0",
   "metadata": {},
   "source": [
    "## Download Data"
   ]
  },
  {
   "cell_type": "code",
   "execution_count": 20,
   "id": "11148cc6",
   "metadata": {},
   "outputs": [],
   "source": [
    "p=5\n",
    "\n",
    "m=600\n",
    "\n",
    "credit=pd.read_csv('credit.csv',header=None)\n",
    "fulldata=np.array(credit)\n",
    "Y=fulldata[:,24]\n",
    "X=fulldata[:,0:p]"
   ]
  },
  {
   "cell_type": "markdown",
   "id": "0c49332f",
   "metadata": {},
   "source": [
    "## Set Training and Testing Data "
   ]
  },
  {
   "cell_type": "code",
   "execution_count": 21,
   "id": "1ffe2625",
   "metadata": {},
   "outputs": [],
   "source": [
    "Xin=X[0:m,:]\n",
    "Yin=Y[0:m]\n",
    "\n",
    "Xout=X[m:1000,:]\n",
    "Yout=Y[m:1000]"
   ]
  },
  {
   "cell_type": "markdown",
   "id": "dc4823c8",
   "metadata": {},
   "source": [
    "### SVM Model"
   ]
  },
  {
   "cell_type": "code",
   "execution_count": 22,
   "id": "2de1ac0e",
   "metadata": {},
   "outputs": [
    {
     "name": "stdout",
     "output_type": "stream",
     "text": [
      "svm error: 0.265\n"
     ]
    }
   ],
   "source": [
    "# SVM\n",
    "\n",
    "svmmodel = svm.SVC(kernel='linear')\n",
    "svmmodel.fit(Xin, Yin)\n",
    "Ypredictsvm=svmmodel.predict(Xout)\n",
    "accuracy=metrics.accuracy_score(Yout, Ypredictsvm)\n",
    "print(\"svm error:\", 1-accuracy)"
   ]
  },
  {
   "cell_type": "markdown",
   "id": "c8fdc235",
   "metadata": {},
   "source": [
    "### Logistic Model"
   ]
  },
  {
   "cell_type": "code",
   "execution_count": 23,
   "id": "135bd59b",
   "metadata": {},
   "outputs": [
    {
     "name": "stdout",
     "output_type": "stream",
     "text": [
      "logit error: 0.255\n"
     ]
    }
   ],
   "source": [
    "# logistic\n",
    "Y01= Yin-1\n",
    "Xconst= sm.add_constant(Xin)\n",
    "mod = sm.GLM(Y01, Xconst,family=sm.families.Binomial())\n",
    "res = mod.fit()\n",
    "res.params  # this gives the \"beta\"\n",
    "res.summary() # this gives the summary of the model\n",
    "Xnew= sm.add_constant(Xout)\n",
    "Youtprob=res.predict(Xnew)\n",
    "\n",
    "Ypredictlogit=(Youtprob>0.5)+1\n",
    "accuracy=metrics.accuracy_score(Yout, Ypredictlogit)\n",
    "print(\"logit error:\", 1-accuracy)"
   ]
  },
  {
   "cell_type": "markdown",
   "id": "48925e13",
   "metadata": {},
   "source": [
    "## Table where p =5,10,20 (P is Columns selected or Predictors used)\n",
    "## m =600,700,800 (m is rows of data trained) m Training, 1000-m Validation\n",
    "3X3"
   ]
  },
  {
   "cell_type": "markdown",
   "id": "c60e06f1",
   "metadata": {},
   "source": [
    "## Function that generates Error SVM"
   ]
  },
  {
   "cell_type": "code",
   "execution_count": 24,
   "id": "ba5fb15e",
   "metadata": {},
   "outputs": [],
   "source": [
    "def error(p,m):\n",
    "    credit=pd.read_csv('credit.csv',header=None)\n",
    "    fulldata=np.array(credit)\n",
    "    Y=fulldata[:,24]\n",
    "    X=fulldata[:,0:p]\n",
    "    Xin=X[0:m,:]\n",
    "    Yin=Y[0:m]\n",
    "\n",
    "    Xout=X[m:1000,:]\n",
    "    Yout=Y[m:1000]\n",
    "\n",
    "    # SVM\n",
    "\n",
    "    svmmodel = svm.SVC(kernel='linear')\n",
    "    svmmodel.fit(Xin, Yin)\n",
    "    Ypredictsvm=svmmodel.predict(Xout)\n",
    "    accuracy=metrics.accuracy_score(Yout, Ypredictsvm)\n",
    "    print(\"svm error:\", 1-accuracy)\n",
    "    return 1-accuracy "
   ]
  },
  {
   "cell_type": "code",
   "execution_count": 25,
   "id": "c32466aa",
   "metadata": {
    "scrolled": true
   },
   "outputs": [
    {
     "name": "stdout",
     "output_type": "stream",
     "text": [
      "svm error: 0.265\n"
     ]
    },
    {
     "data": {
      "text/plain": [
       "numpy.float64"
      ]
     },
     "execution_count": 25,
     "metadata": {},
     "output_type": "execute_result"
    }
   ],
   "source": [
    "type(error(5,600))"
   ]
  },
  {
   "cell_type": "markdown",
   "id": "bfadc752",
   "metadata": {},
   "source": [
    "# 1.) 3 by 3 Table of P and M Errors"
   ]
  },
  {
   "cell_type": "code",
   "execution_count": 26,
   "id": "31195632",
   "metadata": {},
   "outputs": [
    {
     "name": "stdout",
     "output_type": "stream",
     "text": [
      "svm error: 0.265\n",
      "svm error: 0.25\n",
      "svm error: 0.245\n",
      "svm error: 0.24\n",
      "svm error: 0.21999999999999997\n",
      "svm error: 0.20499999999999996\n",
      "svm error: 0.23250000000000004\n",
      "svm error: 0.20666666666666667\n",
      "svm error: 0.19999999999999996\n",
      "         5     10        20\n",
      "600  0.265  0.240  0.232500\n",
      "700  0.250  0.220  0.206667\n",
      "800  0.245  0.205  0.200000\n"
     ]
    }
   ],
   "source": [
    "data = {'5': [error(5,600), error(5,700), error(5,800)],\n",
    "        '10': [error(10,600), error(10,700), error(10,800)],\n",
    "        '20': [error(20,600),error(20,700),error(20,800)]\n",
    "        }\n",
    "\n",
    "df = pd.DataFrame(data, index=['600','700','800'])\n",
    "\n",
    "print (df)"
   ]
  },
  {
   "cell_type": "markdown",
   "id": "007c44ae",
   "metadata": {},
   "source": [
    "# Support Vector Machine"
   ]
  },
  {
   "cell_type": "markdown",
   "id": "d0e8814d",
   "metadata": {},
   "source": [
    "# 2.) in general, is it true that the more p, the smaller error ? \n",
    "\n",
    "Yes, from the table it looks like the larger the p, the smaller the error. This is probably explained by more predictors reducing the amount of explanation that goes to the error term. "
   ]
  },
  {
   "cell_type": "markdown",
   "id": "0f105213",
   "metadata": {},
   "source": [
    "# 3.) in general, is it true that the larger m, the smaller error ? \n",
    "Yes, the larger the M, the smaller the error. This can be explained by the fact that there is a lower error when we use more data to train. More data used can then in turn produce better results in validation. "
   ]
  },
  {
   "cell_type": "markdown",
   "id": "7758bc5d",
   "metadata": {},
   "source": [
    "### Better Table"
   ]
  },
  {
   "cell_type": "code",
   "execution_count": 27,
   "id": "11c2512c",
   "metadata": {},
   "outputs": [],
   "source": [
    "from tabulate import tabulate"
   ]
  },
  {
   "cell_type": "code",
   "execution_count": 28,
   "id": "845196a6",
   "metadata": {},
   "outputs": [
    {
     "name": "stdout",
     "output_type": "stream",
     "text": [
      "╒═════╤═══════╤═══════╤══════════╕\n",
      "│     │     5 │    10 │       20 │\n",
      "╞═════╪═══════╪═══════╪══════════╡\n",
      "│ 600 │ 0.265 │ 0.24  │ 0.2325   │\n",
      "├─────┼───────┼───────┼──────────┤\n",
      "│ 700 │ 0.25  │ 0.22  │ 0.206667 │\n",
      "├─────┼───────┼───────┼──────────┤\n",
      "│ 800 │ 0.245 │ 0.205 │ 0.2      │\n",
      "╘═════╧═══════╧═══════╧══════════╛\n"
     ]
    }
   ],
   "source": [
    "#create data\n",
    "data = [[\"600\", 0.265, 0.240, 0.232500], \n",
    "        [\"700\", 0.250, 0.220, 0.206667], \n",
    "        [\"800\", 0.245, 0.205, 0.200000]]\n",
    "  \n",
    "#define header names\n",
    "col_names = [\"\", \"5\", \"10\", \"20\"]\n",
    "  \n",
    "#display table\n",
    "print(tabulate(data, headers=col_names, tablefmt=\"fancy_grid\" ))"
   ]
  },
  {
   "cell_type": "markdown",
   "id": "9cd8c3ee",
   "metadata": {},
   "source": [
    "## Function that generates Error Logistic"
   ]
  },
  {
   "cell_type": "code",
   "execution_count": 31,
   "id": "7f6d1cec",
   "metadata": {},
   "outputs": [],
   "source": [
    "def logit_error(p,m):\n",
    "    # logistic\n",
    "   \n",
    "    credit=pd.read_csv('credit.csv',header=None)\n",
    "    fulldata=np.array(credit)\n",
    "    Y=fulldata[:,24]\n",
    "    X=fulldata[:,0:p]\n",
    "    Xin=X[0:m,:]\n",
    "    Yin=Y[0:m]\n",
    "\n",
    "    Xout=X[m:1000,:]\n",
    "    Yout=Y[m:1000]\n",
    "    Y01= Yin-1\n",
    "    Xconst= sm.add_constant(Xin)\n",
    "    mod = sm.GLM(Y01, Xconst,family=sm.families.Binomial())\n",
    "    res = mod.fit()\n",
    "    res.params  # this gives the \"beta\"\n",
    "    res.summary() # this gives the summary of the model\n",
    "    Xnew= sm.add_constant(Xout)\n",
    "    Youtprob=res.predict(Xnew)\n",
    "\n",
    "    Ypredictlogit=(Youtprob>0.5)+1\n",
    "    accuracy=metrics.accuracy_score(Yout, Ypredictlogit)\n",
    "    print(1-accuracy)\n",
    "    return 1-accuracy"
   ]
  },
  {
   "cell_type": "code",
   "execution_count": 32,
   "id": "3cbea6d0",
   "metadata": {},
   "outputs": [
    {
     "name": "stdout",
     "output_type": "stream",
     "text": [
      "0.255\n",
      "0.21499999999999997\n"
     ]
    },
    {
     "data": {
      "text/plain": [
       "0.21499999999999997"
      ]
     },
     "execution_count": 32,
     "metadata": {},
     "output_type": "execute_result"
    }
   ],
   "source": [
    "logit_error(5,600)\n",
    "logit_error(10,800)"
   ]
  },
  {
   "cell_type": "code",
   "execution_count": 33,
   "id": "eefe38ff",
   "metadata": {},
   "outputs": [
    {
     "name": "stdout",
     "output_type": "stream",
     "text": [
      "0.255\n",
      "0.24250000000000005\n",
      "0.24\n",
      "0.21333333333333337\n",
      "0.22333333333333338\n",
      "0.20999999999999996\n",
      "0.19999999999999996\n",
      "0.21499999999999997\n",
      "0.21499999999999997\n",
      "╒═════╤══════════╤══════════╤═══════╕\n",
      "│     │        5 │       10 │    20 │\n",
      "╞═════╪══════════╪══════════╪═══════╡\n",
      "│ 600 │ 0.255    │ 0.2425   │ 0.24  │\n",
      "├─────┼──────────┼──────────┼───────┤\n",
      "│ 700 │ 0.213333 │ 0.223333 │ 0.21  │\n",
      "├─────┼──────────┼──────────┼───────┤\n",
      "│ 800 │ 0.2      │ 0.215    │ 0.215 │\n",
      "╘═════╧══════════╧══════════╧═══════╛\n"
     ]
    }
   ],
   "source": [
    "#Logit\n",
    "data_logit = [[\"600\", logit_error(5,600), logit_error(10,600), logit_error(20,600)], \n",
    "        [\"700\", logit_error(5,700), logit_error(10,700), logit_error(20,700)], \n",
    "        [\"800\", logit_error(5,800), logit_error(10,800), logit_error(20,800)]]\n",
    "  \n",
    "#define header names\n",
    "col_names = [\"\", \"5\", \"10\", \"20\"]\n",
    "  \n",
    "#display table\n",
    "print(tabulate(data_logit, headers=col_names, tablefmt=\"fancy_grid\" ))"
   ]
  },
  {
   "cell_type": "markdown",
   "id": "596ff56c",
   "metadata": {},
   "source": [
    "# Logit Regression"
   ]
  },
  {
   "cell_type": "markdown",
   "id": "25cec49b",
   "metadata": {},
   "source": [
    "# 2.) in general, is it true that the more p, the smaller error ? \n",
    "No, this is only true of p when m is lower. As m gets higher, as p increases, error seems to increase. This can most likely be explained by overfitting. In regressions, when you add more variables, the error increases. "
   ]
  },
  {
   "cell_type": "markdown",
   "id": "fbfce453",
   "metadata": {},
   "source": [
    "# 3.) in general, is it true that the larger m, the smaller error ?\n",
    "No, This is true for p =5 and 10 but not for p=20. "
   ]
  },
  {
   "cell_type": "code",
   "execution_count": null,
   "id": "a4b25698",
   "metadata": {},
   "outputs": [],
   "source": []
  }
 ],
 "metadata": {
  "kernelspec": {
   "display_name": "Python 3",
   "language": "python",
   "name": "python3"
  },
  "language_info": {
   "codemirror_mode": {
    "name": "ipython",
    "version": 3
   },
   "file_extension": ".py",
   "mimetype": "text/x-python",
   "name": "python",
   "nbconvert_exporter": "python",
   "pygments_lexer": "ipython3",
   "version": "3.8.8"
  }
 },
 "nbformat": 4,
 "nbformat_minor": 5
}
